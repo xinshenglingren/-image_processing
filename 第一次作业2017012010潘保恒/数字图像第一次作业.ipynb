{
 "cells": [
  {
   "cell_type": "code",
   "execution_count": 20,
   "metadata": {},
   "outputs": [],
   "source": [
    "import numpy as np\n",
    "from PIL import Image\n",
    "import matplotlib.pyplot as plt"
   ]
  },
  {
   "cell_type": "code",
   "execution_count": 21,
   "metadata": {},
   "outputs": [],
   "source": [
    "# 1-1.图像数据的读取\n",
    "img = Image.open('人脸图像.jpg')"
   ]
  },
  {
   "cell_type": "code",
   "execution_count": 22,
   "metadata": {},
   "outputs": [],
   "source": [
    "# 1-2.Save the image with a different name\n",
    "img.save('new_人脸图像.jpg')"
   ]
  },
  {
   "cell_type": "code",
   "execution_count": 23,
   "metadata": {},
   "outputs": [
    {
     "name": "stdout",
     "output_type": "stream",
     "text": [
      "1--原始图像信息： {'jfif': 257, 'jfif_version': (1, 1), 'dpi': (96, 96), 'jfif_unit': 1, 'jfif_density': (96, 96), 'progressive': 1, 'progression': 1}\n"
     ]
    }
   ],
   "source": [
    "# 1-3.可视化、图像数据信息的获取\n",
    "img.show()\n",
    "print('1--原始图像信息：', img.info)"
   ]
  },
  {
   "cell_type": "code",
   "execution_count": 13,
   "metadata": {},
   "outputs": [
    {
     "name": "stdout",
     "output_type": "stream",
     "text": [
      "2--转化后的图像信息： {'jfif': 257, 'jfif_version': (1, 1), 'dpi': (96, 96), 'jfif_unit': 1, 'jfif_density': (96, 96), 'progressive': 1, 'progression': 1}\n"
     ]
    }
   ],
   "source": [
    "#2-1.Convert the image to grayscale、可视化、信息获取\n",
    "gray_image = img.convert(\"L\")\n",
    "gray_image.show()\n",
    "print('2--转化后的图像信息：', gray_image.info)"
   ]
  },
  {
   "cell_type": "code",
   "execution_count": 14,
   "metadata": {},
   "outputs": [],
   "source": [
    "# 3. Create a dimension tuple\n",
    "dim = (100, 100, 400, 400)\n",
    "crop_img = img.crop(dim)\n",
    "crop_img.show()"
   ]
  },
  {
   "cell_type": "code",
   "execution_count": 15,
   "metadata": {},
   "outputs": [],
   "source": [
    "# 4.Rotate the image by 90 degress anti-clockwise\n",
    "# 4-1.方式1.\n",
    "rotated_img1 = img.rotate(90)\n",
    "rotated_img1.show()"
   ]
  },
  {
   "cell_type": "code",
   "execution_count": 16,
   "metadata": {},
   "outputs": [],
   "source": [
    "# 4-2.方式2.\n",
    "rotated_img2 = img.rotate(90,resample=Image.BICUBIC,expand=1)\n",
    "rotated_img2.show()"
   ]
  },
  {
   "cell_type": "code",
   "execution_count": 18,
   "metadata": {},
   "outputs": [],
   "source": [
    "# 5.灰度图像的亮度增强,注意函数的增强系数2,0.5\n",
    "from PIL import ImageEnhance\n",
    "enchancer = ImageEnhance.Brightness(gray_image)\n",
    "bright_img = enchancer.enhance(2)\n",
    "bright_img.show()\n",
    "\n",
    "bright_img = enchancer.enhance(0.5)\n",
    "bright_img.show()"
   ]
  },
  {
   "cell_type": "code",
   "execution_count": 19,
   "metadata": {},
   "outputs": [
    {
     "name": "stdout",
     "output_type": "stream",
     "text": [
      "3--image size after resizing： (300, 300)\n"
     ]
    }
   ],
   "source": [
    "# 7.Resize the image,注意不同的处理方式\n",
    "resize_img1 = img.resize((300, 300))\n",
    "resize_img1.show()\n",
    "\n",
    "resize_img2 = img.resize((300, 300),resample = Image.BICUBIC)\n",
    "resize_img2.show()\n",
    "print('3--image size after resizing：', resize_img2.size)"
   ]
  },
  {
   "cell_type": "code",
   "execution_count": null,
   "metadata": {},
   "outputs": [],
   "source": []
  }
 ],
 "metadata": {
  "kernelspec": {
   "display_name": "Python 3",
   "language": "python",
   "name": "python3"
  },
  "language_info": {
   "codemirror_mode": {
    "name": "ipython",
    "version": 3
   },
   "file_extension": ".py",
   "mimetype": "text/x-python",
   "name": "python",
   "nbconvert_exporter": "python",
   "pygments_lexer": "ipython3",
   "version": "3.6.4"
  }
 },
 "nbformat": 4,
 "nbformat_minor": 2
}
